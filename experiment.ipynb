{
 "cells": [
  {
   "cell_type": "code",
   "execution_count": 237,
   "metadata": {
    "collapsed": true
   },
   "outputs": [],
   "source": [
    "import numpy as np\n",
    "from sklearn.model_selection import train_test_split\n",
    "import matplotlib.pyplot as plt\n",
    "import pandas as pd\n",
    "%matplotlib inline"
   ]
  },
  {
   "cell_type": "code",
   "execution_count": 238,
   "metadata": {},
   "outputs": [
    {
     "name": "stdout",
     "output_type": "stream",
     "text": [
      "943 1682\n"
     ]
    }
   ],
   "source": [
    "data_train_orig = np.loadtxt('data/u1.base',dtype = np.int64)\n",
    "data_test_orig = np.loadtxt('data/u1.test',dtype=np.int64)\n",
    "\n",
    "data_train_orig[:,0]-=1\n",
    "data_train_orig[:,1]-=1\n",
    "data_test_orig[:,0]-=1\n",
    "data_test_orig[:,1]-=1\n",
    "\n",
    "\n",
    "n_users = 943\n",
    "n_items = 1682\n",
    "print(n_users,n_items)\n",
    "\n",
    "R = np.zeros((n_users,n_items))\n",
    "for i in range(data_train_orig.shape[0]):\n",
    "    R[data_train_orig[i][0]][data_train_orig[i][1]]=data_train_orig[i][2]\n"
   ]
  },
  {
   "cell_type": "code",
   "execution_count": 239,
   "metadata": {
    "collapsed": true
   },
   "outputs": [],
   "source": [
    "K = 2\n",
    "P = np.random.rand(n_users,K)\n",
    "Q = np.random.rand(n_items,K)"
   ]
  },
  {
   "cell_type": "code",
   "execution_count": 240,
   "metadata": {},
   "outputs": [],
   "source": [
    "def validation_loss(P,Q, lambda_p = 0.02, lambda_q = 0.02):\n",
    "    R_val = np.zeros((n_users,n_items))\n",
    "    for i in range(data_test_orig.shape[0]):\n",
    "        R_val[data_test_orig[i][0]][data_test_orig[i][1]]=data_test_orig[i][2]\n",
    "        \n",
    "    n_pu = np.sum(R_val>0,axis = 1)\n",
    "    n_qi = np.sum(R_val>0,axis = 0)\n",
    "    loss = np.sum(np.square(R_val - np.dot(P,Q.T))) \\\n",
    "                + lambda_p * np.sum(n_pu * np.sum(np.square(P), axis=1)) \\\n",
    "                + lambda_q * np.sum(n_qi * np.sum(np.square(Q), axis=1))\n",
    "    return loss\n",
    "    "
   ]
  },
  {
   "cell_type": "code",
   "execution_count": 270,
   "metadata": {},
   "outputs": [],
   "source": [
    "def train(P,Q,R,learning_rate = 0.01, lambda_p = 30, lambda_q = 30, max_iterations = 5000):\n",
    "    \n",
    "    P = np.random.rand(n_users,K)\n",
    "    Q = np.random.rand(n_items,K)\n",
    "\n",
    "    val_loss_log = []\n",
    "    \n",
    "    for it in range(max_iterations):\n",
    "        idx = np.random.randint(data_train_orig.shape[0])\n",
    "#         idx = it%n_users\n",
    "        u = data_train_orig[it][0]\n",
    "        i = data_train_orig[it][1]\n",
    "        r = data_train_orig[it][2]\n",
    "        assert R[u,i]==r\n",
    "        E = r - np.dot(P[u],Q[i])\n",
    "        \n",
    "        loss = np.square(r-np.dot(P[u],Q[i])) + lambda_p * np.sum(np.square(P[u])) + lambda_q * np.sum(np.square(Q[i]))\n",
    "        \n",
    "        val_loss = validation_loss(P,Q)\n",
    "        val_loss_log.append(val_loss)\n",
    "        \n",
    "        if it % 50 ==0:\n",
    "            print(it,loss,val_loss)\n",
    "#         break\n",
    "        gp = E*(-Q[i])+lambda_p*P[u]\n",
    "        gq = E*(-P[u])+lambda_q*Q[i]\n",
    "\n",
    "#         print(P.shape,gp.shape,Q.shape,gq.shape)\n",
    "#         print(E)\n",
    "#         print(gp.shape)\n",
    "#         P = P + learning_rate * gp\n",
    "#         Q = Q + learning_rate * gq\n",
    "        P[u] = P[u] - learning_rate * gp\n",
    "        Q[i] = Q[i] - learning_rate * gq\n",
    "        \n",
    "    return val_loss_log\n",
    "        "
   ]
  },
  {
   "cell_type": "code",
   "execution_count": 271,
   "metadata": {},
   "outputs": [
    {
     "name": "stdout",
     "output_type": "stream",
     "text": [
      "0 83.3626066272 752353.385538\n",
      "50 49.9802500191 740114.924932\n",
      "100 25.7380160604 731937.754441\n",
      "150 44.2065662377 724604.898905\n",
      "200 25.2952723406 715255.014425\n",
      "250 5.54990484095 709195.058188\n",
      "300 49.967271954 698883.117063\n",
      "350 4.01267455793 694707.874507\n",
      "400 32.9759233508 688769.559827\n",
      "450 25.3925324392 681277.116217\n",
      "500 31.9026267411 678036.342492\n",
      "550 51.6279128554 672147.806261\n",
      "600 51.0476029199 659059.098799\n",
      "650 9.15093418543 650803.465051\n",
      "700 25.2896826248 646639.598484\n",
      "750 16.2691207692 643825.531156\n",
      "800 9.27551997129 638890.160456\n",
      "850 16.5090908594 636459.920686\n",
      "900 4.39827006559 632372.509742\n",
      "950 19.4935828458 630447.512708\n",
      "1000 9.06089924029 628984.86635\n",
      "1050 9.00205856838 625553.059221\n",
      "1100 29.6070874695 623579.105035\n",
      "1150 25.2741298786 618119.077247\n",
      "1200 18.9045112666 605016.773653\n",
      "1250 49.6640532364 588553.839043\n",
      "1300 16.3153914502 580311.204254\n",
      "1350 9.19639305939 577686.419704\n",
      "1400 25.0001163781 574468.120233\n",
      "1450 16.0000796765 570496.173938\n",
      "1500 9.0006021753 569010.943562\n",
      "1550 9.00052492942 568540.158026\n",
      "1600 9.28434924783 564623.393404\n",
      "1650 1.0743788557 557292.901653\n",
      "1700 1.3244598271 556694.856989\n",
      "1750 25.3367944712 549143.74249\n",
      "1800 9.09257716776 549221.652346\n",
      "1850 51.9516541054 546860.251388\n",
      "1900 16.2977215533 546457.885944\n",
      "1950 16.0189996847 543631.514645\n",
      "2000 16.1709720788 542891.085489\n",
      "2050 11.8426876675 542110.798977\n",
      "2100 16.0050888199 539489.562264\n",
      "2150 16.0001601485 538121.140014\n",
      "2200 16.3931879975 537160.313138\n",
      "2250 4.00007212843 533322.530075\n",
      "2300 25.0000202925 532057.749761\n",
      "2350 16.0000426758 528794.611945\n",
      "2400 16.0000001275 528094.127586\n",
      "2450 16.0000124557 526982.171328\n",
      "2500 25.0043478528 524439.544858\n",
      "2550 16.0000152192 524322.818588\n",
      "2600 16.2113889386 522932.95521\n",
      "2650 16.0000000048 520615.686547\n",
      "2700 9.00000004579 520115.581103\n",
      "2750 16.015678888 517907.246211\n",
      "2800 1.00214663344 516782.547342\n",
      "2850 25.0011053066 516781.296074\n",
      "2900 25.0000005416 511163.782774\n",
      "2950 16.0808538453 510149.614267\n",
      "3000 16.000003543 508947.061368\n",
      "3050 9.0000000085 507888.046389\n",
      "3100 25.0000029807 506488.059723\n",
      "3150 25.349106943 506108.122316\n",
      "3200 4.00000677409 506163.675627\n",
      "3250 16.3855032764 503501.172675\n",
      "3300 16.0550638197 503503.209759\n",
      "3350 25.0000170166 503461.032694\n",
      "3400 25.0000122389 502527.829623\n",
      "3450 25.0007247871 499270.708996\n",
      "3500 16.0000209304 499278.027079\n",
      "3550 16.0011252608 499277.301696\n",
      "3600 16.0000005771 498058.855\n",
      "3650 4.00107108058 498064.691509\n",
      "3700 16.2913233054 494959.573115\n",
      "3750 16.0000305806 494023.766037\n",
      "3800 16.0000231385 494033.197141\n",
      "3850 54.9923699195 493828.215811\n",
      "3900 16.5508174218 492134.934651\n",
      "3950 4.00001583474 490953.8972\n",
      "4000 16.0000000137 490292.855643\n",
      "4050 16.0000439004 490304.791285\n",
      "4100 25.0000017036 488419.41008\n",
      "4150 16.0000813044 488424.120283\n",
      "4200 9.00462641092 485336.980189\n",
      "4250 4.00342278466 484992.416737\n",
      "4300 9.02225174583 483908.82756\n",
      "4350 16.0000380415 482079.14594\n",
      "4400 16.0000000013 481282.113509\n",
      "4450 16.0000018402 480756.665563\n",
      "4500 25.0000000174 480756.549852\n",
      "4550 4.00002232499 479896.105278\n",
      "4600 25.0000025927 478933.204009\n",
      "4650 25.002708242 478526.623218\n",
      "4700 9.00347929087 478530.98774\n",
      "4750 16.0000000075 478108.607169\n",
      "4800 16.0008892442 473910.940116\n",
      "4850 25.0000000001 473302.808069\n",
      "4900 19.6848136709 471716.370508\n",
      "4950 9.00000000009 468298.850131\n"
     ]
    },
    {
     "data": {
      "image/png": "[encoded data removed]",
      "text/plain": [
       "<matplotlib.figure.Figure at 0x7fe228165908>"
      ]
     },
     "metadata": {},
     "output_type": "display_data"
    }
   ],
   "source": [
    "val_loss = train(P,Q,R,learning_rate=0.03)\n",
    "\n",
    "plt.plot(val_loss)\n",
    "plt.show()"
   ]
  },
  {
   "cell_type": "code",
   "execution_count": null,
   "metadata": {
    "collapsed": true
   },
   "outputs": [],
   "source": []
  },
  {
   "cell_type": "code",
   "execution_count": null,
   "metadata": {
    "collapsed": true
   },
   "outputs": [],
   "source": []
  },
  {
   "cell_type": "code",
   "execution_count": null,
   "metadata": {
    "collapsed": true
   },
   "outputs": [],
   "source": []
  },
  {
   "cell_type": "code",
   "execution_count": null,
   "metadata": {
    "collapsed": true
   },
   "outputs": [],
   "source": []
  },
  {
   "cell_type": "code",
   "execution_count": null,
   "metadata": {
    "collapsed": true
   },
   "outputs": [],
   "source": []
  },
  {
   "cell_type": "code",
   "execution_count": null,
   "metadata": {
    "collapsed": true
   },
   "outputs": [],
   "source": []
  },
  {
   "cell_type": "code",
   "execution_count": 243,
   "metadata": {
    "collapsed": true
   },
   "outputs": [],
   "source": [
    "# K = 10\n",
    "# # P = np.zeros((n_users,K))\n",
    "# # Q = np.zeros((n_items,K))\n",
    "# P = np.random.rand(n_users,K)\n",
    "# Q = np.random.rand(n_items,K)\n",
    "# lambd = 0.01"
   ]
  },
  {
   "cell_type": "code",
   "execution_count": 244,
   "metadata": {
    "collapsed": true
   },
   "outputs": [],
   "source": [
    "# def compute_cost(P,Q,R):\n",
    "#     cost = np.sum(np.square(R-np.dot(P,Q.T))) + lambd * (np.sum(np.sum(R>0,axis=1) * np.sum(np.square(P),axis=1)) + np.sum(np.sum(R>0,axis=0) * np.sum(np.square(Q),axis=1)))\n",
    "#     return cost"
   ]
  },
  {
   "cell_type": "code",
   "execution_count": 245,
   "metadata": {
    "collapsed": true
   },
   "outputs": [],
   "source": [
    "# def validation(P,Q,test_data):\n",
    "#     R = np.dot(P,Q.T)\n",
    "#     m = test_data.shape[0]\n",
    "#     MAE = 0\n",
    "#     for i in range(m):\n",
    "#         MAE += abs(R[test_data[i][0]][test_data[i][1]]-test_data[i][2])\n",
    "#     MAE/=m\n",
    "    \n",
    "# #     print('MAE: %f' % MAE)\n",
    "# #     print(R[test_data[i][0]-1][test_data[i][1]-1],test_data[i][2])\n",
    "#     return MAE    "
   ]
  },
  {
   "cell_type": "code",
   "execution_count": 246,
   "metadata": {
    "collapsed": true
   },
   "outputs": [],
   "source": [
    "\n",
    "# def optimize(P,Q):\n",
    "#     for loop in range(1000):\n",
    "#         for u in range(n_users):\n",
    "#             select = R[u,:]>0\n",
    "#             x = np.linalg.pinv(np.dot(Q[select].T,Q[select])+lambd*np.sum(R[u]>0)*np.eye(K))\n",
    "#             P[u] = np.dot(np.dot(x,Q.T),R[u].T)\n",
    "#         for i in range(n_items):\n",
    "#             select = R[:,i]>0\n",
    "#             x = np.linalg.pinv(np.dot(P[select].T,P[select]) +lambd*np.sum(R[:,i]>0)*np.eye(K))\n",
    "#             Q[i] = np.dot(np.dot(x,P.T),R[:,i])\n",
    "#         cost = compute_cost(P,Q,R)\n",
    "#         print(cost,validation(P,Q,data_test_orig))"
   ]
  },
  {
   "cell_type": "code",
   "execution_count": 247,
   "metadata": {},
   "outputs": [],
   "source": [
    "# optimize(P,Q)"
   ]
  },
  {
   "cell_type": "code",
   "execution_count": null,
   "metadata": {},
   "outputs": [],
   "source": []
  },
  {
   "cell_type": "code",
   "execution_count": 248,
   "metadata": {
    "collapsed": true
   },
   "outputs": [],
   "source": [
    "\n",
    "#     R[test_data[:,0]][test]"
   ]
  },
  {
   "cell_type": "code",
   "execution_count": 249,
   "metadata": {},
   "outputs": [],
   "source": [
    "# validation(P,Q,data_test_orig)"
   ]
  },
  {
   "cell_type": "code",
   "execution_count": null,
   "metadata": {
    "collapsed": true
   },
   "outputs": [],
   "source": []
  },
  {
   "cell_type": "code",
   "execution_count": null,
   "metadata": {
    "collapsed": true
   },
   "outputs": [],
   "source": []
  },
  {
   "cell_type": "code",
   "execution_count": null,
   "metadata": {
    "collapsed": true
   },
   "outputs": [],
   "source": []
  },
  {
   "cell_type": "code",
   "execution_count": 250,
   "metadata": {},
   "outputs": [
    {
     "data": {
      "text/plain": [
       "array([3, 7])"
      ]
     },
     "execution_count": 250,
     "metadata": {},
     "output_type": "execute_result"
    }
   ],
   "source": [
    "x = np.array([[1,2],[3,4]])\n",
    "np.sum(x,axis = 1)"
   ]
  },
  {
   "cell_type": "code",
   "execution_count": null,
   "metadata": {
    "collapsed": true
   },
   "outputs": [],
   "source": []
  }
 ],
 "metadata": {
  "kernelspec": {
   "display_name": "Python 3",
   "language": "python",
   "name": "python3"
  },
  "language_info": {
   "codemirror_mode": {
    "name": "ipython",
    "version": 3
   },
   "file_extension": ".py",
   "mimetype": "text/x-python",
   "name": "python",
   "nbconvert_exporter": "python",
   "pygments_lexer": "ipython3",
   "version": "3.5.2"
  }
 },
 "nbformat": 4,
 "nbformat_minor": 2
}
